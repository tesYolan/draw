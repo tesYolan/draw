{
 "metadata": {
  "language_info": {
   "codemirror_mode": {
    "name": "ipython",
    "version": 3
   },
   "file_extension": ".py",
   "mimetype": "text/x-python",
   "name": "python",
   "nbconvert_exporter": "python",
   "pygments_lexer": "ipython3",
   "version": "3.8.10"
  },
  "orig_nbformat": 4,
  "kernelspec": {
   "name": "python3",
   "display_name": "Python 3.8.10 64-bit ('svg': conda)"
  },
  "interpreter": {
   "hash": "4c1038ce00ed713691b15898044b5861426126bc2d30d5cc4e44257b7dc5c1f6"
  }
 },
 "nbformat": 4,
 "nbformat_minor": 2,
 "cells": [
  {
   "source": [
    "What is the purpose of this? \n",
    "\n",
    "Every drawing has the following hierarchy. That hierarchy is as follows:\n",
    "* Layer 1\n",
    "* Head\n",
    "* Lower Trunk\n",
    "* Upper Trunk\n",
    "* Tail\n",
    "\n",
    "And there is a line connecting them. Organize the hierarchy to allow merging of the different files onto different organization so that to allow a different combinations from one head to the next. \n",
    "\n",
    "Since we have ten images, let's see all the combinations that could happen with this. \n",
    "\n",
    "Now a counter argument: \n",
    "\n",
    "I have put some significant amount of work worrying whether the underlying thing being svg is important or not. That doesn't matter. There needs to be more simplicfaction of the paths that are being displayed. \n",
    "\n",
    "\n",
    "Doing this takes time, and is odious. at the same time there needs to be an angle on how to do this better. \n",
    "\n",
    "For now let's table taht. \n",
    "\n"
   ],
   "cell_type": "markdown",
   "metadata": {}
  },
  {
   "source": [
    "How to read SVG Files and display them here? \n",
    "\n",
    "What is the best way to display SVG files and the different layers they have in jupyter notebook? \n",
    "\n",
    "There is the idisplay one. there is also the other way. \n",
    "\n",
    "# or \n",
    "\n",
    "Why not just see it in a file. So what you want to save the items using basic xml configuration"
   ],
   "cell_type": "markdown",
   "metadata": {}
  },
  {
   "cell_type": "code",
   "execution_count": 1,
   "metadata": {},
   "outputs": [],
   "source": [
    "import svgutils.transform as sg"
   ]
  },
  {
   "cell_type": "code",
   "execution_count": 2,
   "metadata": {},
   "outputs": [],
   "source": [
    "import sys"
   ]
  },
  {
   "cell_type": "code",
   "execution_count": 3,
   "metadata": {},
   "outputs": [],
   "source": [
    "fig = sg.fromfile(\"camptosaurus.svg\")"
   ]
  },
  {
   "cell_type": "code",
   "execution_count": null,
   "metadata": {},
   "outputs": [],
   "source": [
    "fig.g"
   ]
  }
 ]
}